{
 "cells": [
  {
   "cell_type": "markdown",
   "metadata": {},
   "source": [
    "Análise Climática de Hong Kong - Projeto de Ciência de Dados\n",
    "Descrição\n",
    "Este projeto tem como objetivo realizar uma análise detalhada dos dados climáticos de Hong Kong, incluindo pluviosidade, umidade e temperaturas (máximas, mínimas e médias). Além disso, será realizada uma análise de tendência de aquecimento global utilizando dados históricos de temperatura. O projeto utiliza Python e bibliotecas como Pandas, Matplotlib e Seaborn para análise de dados e visualização.\n",
    "\n",
    "Objetivos do Projeto\n",
    "Analisar a pluviosidade de Hong Kong ao longo dos anos e identificar padrões sazonais.\n",
    "\n",
    "Estudar a umidade relativa ao longo do tempo e suas relações com outras variáveis climáticas.\n",
    "\n",
    "Analisar as temperaturas (máximas, mínimas e médias) de Hong Kong, observando variações e tendências sazonais.\n",
    "\n",
    "Avaliar a tendência de aquecimento global usando as temperaturas médias de Hong Kong, identificando a taxa de aquecimento ao longo dos anos.\n",
    "\n",
    "\n"
   ]
  },
  {
   "cell_type": "markdown",
   "metadata": {},
   "source": [
    "Etapas do Projeto\n",
    "Importação dos Dados\n",
    "\n",
    "Carregar os dados e realizar as primeiras verificações.\n",
    "Carregamento do dataframe\n",
    "Inspecao de dados nulos\n",
    "Conversao da coluna 'date' para datetime\n",
    "\"Drop\" das colunas anteriores de anos, meses e dia da semana \n",
    "Correcao de títulos de colunas\n",
    "Inclusao de estacoes"
   ]
  },
  {
   "cell_type": "code",
   "execution_count": null,
   "metadata": {},
   "outputs": [],
   "source": [
    "import pandas as pd\n",
    "import numpy as np\n",
    "import matplotlib.pyplot as plt\n",
    "import seaborn as sns\n"
   ]
  },
  {
   "cell_type": "code",
   "execution_count": null,
   "metadata": {},
   "outputs": [],
   "source": [
    "import pandas as pd\n",
    "#Carregamento do dataset\n",
    "df = pd.read_excel(r\"D:\\Downloads\\HK_Weather_2010_2019.xlsx\")\n",
    "\n",
    "#Exibir as primeiras linhas do dataframe\n",
    "print(df.head())"
   ]
  },
  {
   "cell_type": "code",
   "execution_count": null,
   "metadata": {},
   "outputs": [],
   "source": [
    "#Verificacao de valores nulos/ausentes\n",
    "print(df.isnull().sum())\n",
    "\n",
    "#Remocao de linhas ou colunas com valores ausentes\n",
    "df = df.dropna()\n",
    "\n",
    "#Remocao de espacos extras nos nomes das colunas\n",
    "df.columns = df.columns.str.strip()"
   ]
  },
  {
   "cell_type": "code",
   "execution_count": null,
   "metadata": {},
   "outputs": [],
   "source": [
    "# Ajustar o formato da data para 'dd/mm/aaaa'\n",
    "df['date'] = pd.to_datetime(df['date'], format='%d/%m/%Y')\n",
    "\n",
    "# Verificar se a conversão foi bem-sucedida\n",
    "print(df['date'].head())"
   ]
  },
  {
   "cell_type": "code",
   "execution_count": null,
   "metadata": {},
   "outputs": [],
   "source": [
    "# Renomear as colunas para garantir que o código funcione corretamente\n",
    "df = df.rename(columns={'Year': 'year', 'Month': 'month', 'Day': 'day', 'WeekDay': 'weekday', 'temparature':'temperature','max temparature':'maxtemp'})\n",
    "\n",
    "# Verifique as colunas novamente\n",
    "print(df.columns)"
   ]
  },
  {
   "cell_type": "code",
   "execution_count": null,
   "metadata": {},
   "outputs": [],
   "source": [
    "#Criacao das colunas dia,dia da semana, mes e ano derivadas da coluna data convertida para datetime\n",
    "df['Year'] = df['date'].dt.year\n",
    "df['Month'] = df['date'].dt.month\n",
    "df['Day'] = df['date'].dt.day\n",
    "df['Weekday'] = df['date'].dt.day_name()\n",
    "# Verificar as primeiras linhas do DataFrame\n",
    "print(df.head())"
   ]
  },
  {
   "cell_type": "code",
   "execution_count": null,
   "metadata": {},
   "outputs": [],
   "source": [
    "# Garantir que 'Year' e 'Month' são inteiros\n",
    "df['Year'] = df['Year'].astype(int)\n",
    "df['Month'] = df['Month'].astype(int)\n",
    "\n",
    "# Agrupar por 'Year' e calcular a média da 'Rainfall'\n",
    "df_yearly = df.groupby('Year').agg({'rainfall': 'mean'}).reset_index()\n",
    "\n",
    "# Agrupar por 'Month' e calcular a média da 'Rainfall'\n",
    "df_monthly = df.groupby('Month').agg({'rainfall': 'mean'}).reset_index()\n",
    "\n",
    "# Visualizar os resultados\n",
    "print(df_yearly.head())\n",
    "print(df_monthly.head())"
   ]
  },
  {
   "cell_type": "code",
   "execution_count": null,
   "metadata": {},
   "outputs": [],
   "source": [
    "#Criação do agrupamento \"Seasons\"\n",
    "def get_season(month):\n",
    "    if month in [3, 4, 5]:  # Primavera\n",
    "        return 'Spring'\n",
    "    elif month in [6, 7, 8]:  # Verão\n",
    "        return 'Summer'\n",
    "    elif month in [9, 10, 11]:  # Outono\n",
    "        return 'Autumn'\n",
    "    else:  # Inverno\n",
    "        return 'Winter'\n",
    "\n",
    "# Aplicar a função para criar a coluna 'Season'\n",
    "df['Season'] = df['Month'].apply(get_season)\n",
    "\n",
    "# Agrupar por 'Season' e calcular a média de 'Rainfall'\n",
    "df_seasonal = df.groupby('Season').agg({'rainfall': 'mean'}).reset_index()\n",
    "\n",
    "# Exibir os resultados\n",
    "print(df_seasonal)"
   ]
  },
  {
   "cell_type": "markdown",
   "metadata": {},
   "source": [
    "Análise Exploratória\n",
    "\n",
    "Análise de pluviosidade, umidade e temperatura ao longo dos anos.\n",
    "\n",
    "Comparação de médias mensais e anuais."
   ]
  },
  {
   "cell_type": "code",
   "execution_count": null,
   "metadata": {},
   "outputs": [],
   "source": [
    "# Garantir que 'Year' e 'Month' são inteiros (se necessário)\n",
    "df['Year'] = df['Year'].astype(int)\n",
    "df['Month'] = df['Month'].astype(int)\n",
    "\n"
   ]
  },
  {
   "cell_type": "code",
   "execution_count": null,
   "metadata": {},
   "outputs": [],
   "source": [
    "# Agrupar por 'Year' e calcular a média da 'Humidity'\n",
    "df_yearly_humi=df.groupby('Year').agg({'humidity':'mean'}).reset_index()\n",
    "# Agrupar por 'Month' e calcular a média da 'Humidity'\n",
    "df_monthly_humi = df.groupby('Month').agg({'humidity':'mean'}).reset_index()\n",
    "# Agrupar por 'Season' e calcular a média de 'humidity'\n",
    "df_seasonal_humi = df.groupby('Season').agg({'humidity': 'mean'}).reset_index()\n",
    "# Visualizar os resultados\n",
    "print(df_yearly_humi.head())\n",
    "print(df_monthly_humi.head())\n",
    "print(df_seasonal_humi.head())"
   ]
  },
  {
   "cell_type": "code",
   "execution_count": null,
   "metadata": {},
   "outputs": [],
   "source": [
    "# Agrupar por 'Year' e calcular a média da 'Humidity'\n",
    "df_yearly_rain=df.groupby('Year').agg({'rainfall':'mean'}).reset_index()\n",
    "# Agrupar por 'Month' e calcular a média da 'Humidity'\n",
    "df_monthly_rain = df.groupby('Month').agg({'rainfall':'mean'}).reset_index()\n",
    "# Agrupar por 'Season' e calcular a média de 'humidity'\n",
    "df_seasonal_rain = df.groupby('Season').agg({'rainfall': 'mean'}).reset_index()\n",
    "# Visualizar os resultados\n",
    "print(df_yearly_rain.head())\n",
    "print(df_monthly_rain.head())\n",
    "print(df_seasonal_rain.head())"
   ]
  },
  {
   "cell_type": "code",
   "execution_count": null,
   "metadata": {},
   "outputs": [],
   "source": [
    "# Exibir as primeiras linhas dos dados agregados\n",
    "\n",
    "print(\"Annual Rainfall Average:\")\n",
    "print(df_yearly_rain.head())\n",
    "\n",
    "\n",
    "print(\"\\nMonthly Rainfall Average:\")\n",
    "print(df_monthly_rain.head())\n",
    "\n",
    "\n",
    "print(\"\\nMSeasonal Rainfall Average:\")\n",
    "print(df_seasonal_rain)\n",
    "\n",
    "print(\"Annual Humidity Average:\")\n",
    "print(df_yearly_humi.head())\n",
    "\n",
    "\n",
    "print(\"\\nMonthly Temperature and Rainfall Average:\")\n",
    "print(df_monthly_humi.head())\n",
    "\n",
    "\n",
    "print(\"\\nMSeasonal Humidity:\")\n",
    "print(df_seasonal_humi)"
   ]
  },
  {
   "cell_type": "code",
   "execution_count": null,
   "metadata": {},
   "outputs": [],
   "source": [
    "# Agrupar por ano e calcular as temperaturas máximas e mínimas\n",
    "df_yearly_temperature = df.groupby('Year').agg({'temperature':'mean'})\n",
    "df_monthly_temperature = df.groupby('Month').agg({'temperature':'mean'})\n",
    "\n",
    "# Exibir os resultados\n",
    "df_yearly_temperature.head()\n",
    "df_monthly_temperature.head() \n",
    "\n"
   ]
  },
  {
   "cell_type": "code",
   "execution_count": null,
   "metadata": {},
   "outputs": [],
   "source": [
    "# Agrupar por ano e calcular as temperaturas máximas e mínimas\n",
    "df_yearly_temperature = df.groupby('Year').agg({'temperature':'mean'})\n",
    "df_yearly_temp = df.groupby('Year').agg({'maxtemp': 'max', 'mintemp': 'min'}).reset_index()\n",
    "df_monthly_temp = df.groupby('Month').agg({'maxtemp': 'max', 'mintemp': 'min'}).reset_index()\n",
    "# Exibir os resultados\n",
    "df_monthly_temperature.head()\n",
    "df_yearly_temp.head()\n",
    "df_monthly_temp.head()\n",
    "\n",
    "\n",
    "\n"
   ]
  },
  {
   "cell_type": "markdown",
   "metadata": {},
   "source": [
    "Visualizações\n",
    "\n",
    "Gráficos de linha, histogramas e box plots para representar as variações ao longo do tempo."
   ]
  },
  {
   "cell_type": "markdown",
   "metadata": {},
   "source": [
    "Precipitacao\n",
    "Médias Anuais, Mensais e Sazonais"
   ]
  },
  {
   "cell_type": "code",
   "execution_count": null,
   "metadata": {},
   "outputs": [],
   "source": [
    "#Médias aanual e mensal da precipitação\n",
    "df_yearly_rain = df.groupby('Year').agg({'temperature': 'mean', 'rainfall': 'mean'}).reset_index()\n",
    "df_monthly_rain = df.groupby('Month').agg({'temperature': 'mean', 'rainfall': 'mean'}).reset_index()\n",
    "\n",
    "# Criar subgráficos\n",
    "fig, (ax1, ax2) = plt.subplots(1, 2, figsize=(14, 6))\n",
    "\n",
    "# Gráfico de média anual\n",
    "ax1.plot(df_yearly_rain['Year'], df_yearly_rain['rainfall'], marker='o', color='b', linestyle='-', linewidth=2, markersize=6)\n",
    "ax1.set_title('Média Anual de Precipitação')\n",
    "ax1.set_xlabel('Ano')\n",
    "ax1.set_ylabel('Precipitação Média (mm)')\n",
    "ax1.grid(True)\n",
    "\n",
    "# Gráfico de média mensal\n",
    "ax2.plot(df_monthly_rain['Month'], df_monthly_rain['rainfall'], marker='o', color='g', linestyle='-', linewidth=2, markersize=6)\n",
    "ax2.set_title('Média Mensal de Precipitação')\n",
    "ax2.set_xlabel('Mês')\n",
    "ax2.set_ylabel('Precipitação Média (mm)')\n",
    "ax2.set_xticks(df_monthly['Month'])\n",
    "ax2.set_xticklabels(['Jan', 'Feb', 'Mar', 'Apr', 'May', 'Jun', 'Jul', 'Aug', 'Sep', 'Oct', 'Nov', 'Dec'])\n",
    "ax2.grid(True)\n",
    "\n",
    "plt.tight_layout()\n",
    "plt.show()\n"
   ]
  },
  {
   "cell_type": "code",
   "execution_count": 4,
   "metadata": {},
   "outputs": [
    {
     "ename": "NameError",
     "evalue": "name 'df' is not defined",
     "output_type": "error",
     "traceback": [
      "\u001b[1;31m---------------------------------------------------------------------------\u001b[0m",
      "\u001b[1;31mNameError\u001b[0m                                 Traceback (most recent call last)",
      "Cell \u001b[1;32mIn[4], line 3\u001b[0m\n\u001b[0;32m      1\u001b[0m \u001b[38;5;28;01mimport\u001b[39;00m \u001b[38;5;21;01mmatplotlib\u001b[39;00m\u001b[38;5;21;01m.\u001b[39;00m\u001b[38;5;21;01mpyplot\u001b[39;00m \u001b[38;5;28;01mas\u001b[39;00m \u001b[38;5;21;01mplt\u001b[39;00m\n\u001b[1;32m----> 3\u001b[0m df_seasonal_rain \u001b[38;5;241m=\u001b[39m \u001b[43mdf\u001b[49m\u001b[38;5;241m.\u001b[39mgroupby(\u001b[38;5;124m'\u001b[39m\u001b[38;5;124mSeason\u001b[39m\u001b[38;5;124m'\u001b[39m)\u001b[38;5;241m.\u001b[39magg({\u001b[38;5;124m'\u001b[39m\u001b[38;5;124mrainfall\u001b[39m\u001b[38;5;124m'\u001b[39m: \u001b[38;5;124m'\u001b[39m\u001b[38;5;124mmean\u001b[39m\u001b[38;5;124m'\u001b[39m})\u001b[38;5;241m.\u001b[39mreset_index()\n\u001b[0;32m      5\u001b[0m \u001b[38;5;66;03m# Plotar a média de precipitação por estação\u001b[39;00m\n\u001b[0;32m      6\u001b[0m plt\u001b[38;5;241m.\u001b[39mfigure(figsize\u001b[38;5;241m=\u001b[39m(\u001b[38;5;241m8\u001b[39m,\u001b[38;5;241m6\u001b[39m))\n",
      "\u001b[1;31mNameError\u001b[0m: name 'df' is not defined"
     ]
    }
   ],
   "source": [
    "import matplotlib.pyplot as plt\n",
    "\n",
    "df_seasonal_rain = df.groupby('Season').agg({'rainfall': 'mean'}).reset_index()\n",
    "\n",
    "# Plotar a média de precipitação por estação\n",
    "plt.figure(figsize=(8,6))\n",
    "plt.bar(df_seasonal_rain['Season'], df_seasonal_rain['rainfall'], color=['green', 'yellow', 'orange', 'blue'])\n",
    "plt.title('Média de Precipitação por Estação em Hong Kong (2010-2019)')\n",
    "plt.xlabel('Estação')\n",
    "plt.ylabel('Precipitação Média (mm)')\n",
    "plt.show()"
   ]
  },
  {
   "cell_type": "markdown",
   "metadata": {},
   "source": [
    "Umidade: médias anuais, mensais e sazonais"
   ]
  },
  {
   "cell_type": "code",
   "execution_count": null,
   "metadata": {},
   "outputs": [],
   "source": [
    "df_yearly_humi= df.groupby('Year').agg({'humidity':'mean'}).reset_index()\n",
    "df_monthly_humi = df.groupby('Month').agg({'humidity':'mean'}).reset_index()\n",
    "\n",
    "# Criar subgráficos\n",
    "fig, (ax1, ax2) = plt.subplots(1, 2, figsize=(14, 6))\n",
    "\n",
    "\n",
    "# Gráfico de média anual\n",
    "ax1.plot(df_yearly_humi['Year'], df_yearly_humi['humidity'], marker='o', color='b', linestyle='-', linewidth=2, markersize=6)\n",
    "ax1.set_title('Média Anual de Umidade')\n",
    "ax1.set_xlabel('Ano')\n",
    "ax1.set_ylabel('Umidade Média (mm)')\n",
    "ax1.grid(True)\n",
    "\n",
    "\n",
    "# Gráfico de média mensal\n",
    "ax2.plot(df_monthly_humi['Month'], df_monthly_humi['humidity'], marker='o', color='g', linestyle='-', linewidth=2, markersize=6)\n",
    "ax2.set_title('Média Mensal de Umidade')\n",
    "ax2.set_xlabel('Mês')\n",
    "ax2.set_ylabel('Umidade Média (mm)')\n",
    "ax2.set_xticks(df_monthly['Month'])\n",
    "ax2.set_xticklabels(['Jan', 'Feb', 'Mar', 'Apr', 'May', 'Jun', 'Jul', 'Aug', 'Sep', 'Oct', 'Nov', 'Dec'])\n",
    "ax2.grid(True)\n",
    "\n",
    "\n",
    "plt.tight_layout()\n",
    "plt.show()"
   ]
  },
  {
   "cell_type": "markdown",
   "metadata": {},
   "source": []
  },
  {
   "cell_type": "code",
   "execution_count": null,
   "metadata": {},
   "outputs": [],
   "source": [
    "import matplotlib.pyplot as plt\n",
    "\n",
    "df_seasonal_humi = df.groupby('Season').agg({'humidity': 'mean'}).reset_index()\n",
    "\n",
    "# Plotar a média de Umidade por estação\n",
    "plt.figure(figsize=(8,6))\n",
    "plt.bar(df_seasonal_humi['Season'], df_seasonal_humi['humidity'], color=['green', 'yellow', 'orange', 'blue'])\n",
    "plt.title('Média de Umidade por Estação em Hong Kong (2010-2019)')\n",
    "plt.xlabel('Estação')\n",
    "plt.ylabel('Umidade Média (mm)')\n",
    "plt.show()"
   ]
  },
  {
   "cell_type": "markdown",
   "metadata": {},
   "source": [
    "Gráficos de Tendência Mensal e Anual de temperatura e precipitação"
   ]
  },
  {
   "cell_type": "code",
   "execution_count": null,
   "metadata": {},
   "outputs": [],
   "source": [
    "import matplotlib.pyplot as plt\n",
    "# Criar os subgráficos\n",
    "fig, axs = plt.subplots(2, 1, figsize=(12, 10))\n",
    "\n",
    "# 📊 Gráfico 1: Tendência Anual de Temperatura e Precipitação\n",
    "axs[0].plot(df_yearly['Year'], df_yearly_temperature['temperature'], label='Temperatura Anual', color='tab:red', marker='o')\n",
    "axs[0].plot(df_yearly['Year'], df_yearly_rain['rainfall'], label='Precipitação Anual', color='tab:blue', marker='s')\n",
    "axs[0].set_title('Tendência Anual de Temperatura e Precipitação')\n",
    "axs[0].set_xlabel('Ano')\n",
    "axs[0].set_ylabel('Valor')\n",
    "axs[0].legend()\n",
    "\n",
    "# 📊 Gráfico 2: Tendência Mensal de Temperatura e Precipitação\n",
    "axs[1].plot(df_monthly['Month'], df_monthly_temperature['temperature'], label='Temperatura Mensal', color='tab:orange', marker='o')\n",
    "axs[1].plot(df_monthly['Month'], df_monthly_rain['rainfall'], label='Precipitação Mensal', color='tab:green', marker='s')\n",
    "axs[1].set_title('Tendência Mensal de Temperatura e Precipitação')\n",
    "axs[1].set_xlabel('Mês')\n",
    "axs[1].set_ylabel('Valor')\n",
    "axs[1].legend()\n",
    "\n",
    "# Ajustar o layout\n",
    "plt.tight_layout()\n",
    "plt.show()\n",
    "\n",
    "\n",
    "\n"
   ]
  },
  {
   "cell_type": "markdown",
   "metadata": {},
   "source": [
    "Temperaturas no decorrer dos anos(máximas e mínimas)"
   ]
  },
  {
   "cell_type": "code",
   "execution_count": null,
   "metadata": {},
   "outputs": [],
   "source": [
    "# Visualização das temperaturas máximas e mínimas ao longo dos anos\n",
    "plt.figure(figsize=(10,6))\n",
    "\n",
    "# Temperaturas máximas\n",
    "plt.plot(df_yearly_temp['Year'], df_yearly_temp['maxtemp'], marker='o', linestyle='-', color='red', label='Temperatura Máxima')\n",
    "\n",
    "# Temperaturas mínimas\n",
    "plt.plot(df_yearly_temp['Year'], df_yearly_temp['mintemp'], marker='o', linestyle='-', color='blue', label='Temperatura Mínima')\n",
    "\n",
    "# Adicionar título e rótulos\n",
    "plt.title('Temperaturas Máximas e Mínimas ao Longo dos Anos')\n",
    "plt.xlabel('Ano')\n",
    "plt.ylabel('Temperatura (°C)')\n",
    "plt.legend()\n",
    "\n",
    "# Mostrar o gráfico\n",
    "plt.grid(True)\n",
    "plt.show()\n"
   ]
  },
  {
   "cell_type": "markdown",
   "metadata": {},
   "source": [
    "Conclusões\n",
    "\n",
    "Resumo dos insights obtidos com as análises.\n",
    "As perguntas que guiam a análise são:\n",
    "Tendências Temporais: Como a temperatura, umidade e precipitação variaram ao longo dos anos?\n",
    "Padrões Sazonais: Existem diferenças sazonais (mensais/trimestrais) nessas variáveis?\n",
    "Correlação Climática: Como a precipitação se relaciona com a umidade e a temperatura?\n",
    "Impacto Climático: Alguma dessas variáveis mostra um aumento ou diminuição significativa ao longo do tempo?\n",
    "\n",
    "A análise dos dados de temperatura, umidade e precipitação em Hong Kong revelou padrões climáticos típicos de uma região tropical, com índices médios relativamente altos de umidade e pluviosidade durante as estações mais frias. No entanto, observamos uma anomalia no ano de 2015, que apresentou uma das menores médias de umidade do conjunto de dados, resultando também no menor índice de precipitação média. Já o ano de 2017 se destacou por registrar tanto as menores quanto as maiores temperaturas do dataset, sugerindo uma maior variabilidade térmica nesse período.\n",
    "\n",
    "Uma descoberta interessante foi a aparente definição mais clara das estações em Hong Kong quando comparada a países subtropicais, como o Brasil. Enquanto os índices de umidade variam pouco ao longo do ano, a precipitação segue um padrão mais marcante: aumentando significativamente no verão, equilibrando-se na primavera e no outono, e tornando-se muito baixa no inverno. Esse comportamento reforça a correlação entre os meses mais quentes e o aumento da evaporação, resultando em maior quantidade de chuvas.\n",
    "\n",
    "Esses achados não apenas contribuem para a compreensão do clima local, mas também podem ser aplicados em estudos mais amplos sobre os impactos das variações climáticas em diferentes regiões do mundo."
   ]
  }
 ],
 "metadata": {
  "kernelspec": {
   "display_name": "Python 3",
   "language": "python",
   "name": "python3"
  },
  "language_info": {
   "codemirror_mode": {
    "name": "ipython",
    "version": 3
   },
   "file_extension": ".py",
   "mimetype": "text/x-python",
   "name": "python",
   "nbconvert_exporter": "python",
   "pygments_lexer": "ipython3",
   "version": "3.11.8"
  }
 },
 "nbformat": 4,
 "nbformat_minor": 2
}
